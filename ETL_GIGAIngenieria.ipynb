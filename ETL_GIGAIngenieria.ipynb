{
  "nbformat": 4,
  "nbformat_minor": 0,
  "metadata": {
    "colab": {
      "provenance": [],
      "authorship_tag": "ABX9TyNkqEt51ll4lQKNnaM8u0p5",
      "include_colab_link": true
    },
    "kernelspec": {
      "name": "python3",
      "display_name": "Python 3"
    },
    "language_info": {
      "name": "python"
    }
  },
  "cells": [
    {
      "cell_type": "markdown",
      "metadata": {
        "id": "view-in-github",
        "colab_type": "text"
      },
      "source": [
        "<a href=\"https://colab.research.google.com/github/Dani-vn18/App_ETV/blob/main/ETL_GIGAIngenieria.ipynb\" target=\"_parent\"><img src=\"https://colab.research.google.com/assets/colab-badge.svg\" alt=\"Open In Colab\"/></a>"
      ]
    },
    {
      "cell_type": "markdown",
      "source": [
        "![Giga.png](data:image/png;base64,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)\n",
        "\n",
        "# App - ETV / GIGA Ingeniería\n",
        "\n",
        "---\n",
        "Vas a encontrar en los próximos segmentos de código y texto, el objetivo principal de la App - ETV.\n",
        "---\n",
        "\n",
        "\n"
      ],
      "metadata": {
        "id": "ONLTOTHHt3Ov"
      }
    },
    {
      "cell_type": "markdown",
      "source": [
        "# Objetivo Principal - ¿Por qué?\n",
        "\n",
        "```\n",
        "La App - ETV tiene como funciones principales tales como:\n",
        "\n",
        "Realizar procesos de Extracción, Transformación y Visualización de Datos,\n",
        "todo esto combinado con el manejo de archivos y .\n",
        "\n",
        "Todo esto lo puede realizar utilizando Python y sus librerías para Data Science como Pandas, entre otras.\n",
        "```\n",
        "\n"
      ],
      "metadata": {
        "id": "8Mb9uz7-voVU"
      }
    },
    {
      "cell_type": "code",
      "source": [],
      "metadata": {
        "id": "IuZl7c1VvCbU"
      },
      "execution_count": null,
      "outputs": []
    },
    {
      "cell_type": "markdown",
      "source": [],
      "metadata": {
        "id": "EFIeGk2iu5gj"
      }
    },
    {
      "cell_type": "code",
      "execution_count": null,
      "metadata": {
        "id": "akJsprb6t2qv"
      },
      "outputs": [],
      "source": []
    }
  ]
}